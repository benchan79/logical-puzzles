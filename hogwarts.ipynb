{
 "cells": [
  {
   "cell_type": "markdown",
   "id": "db7c2c93",
   "metadata": {
    "toc": true
   },
   "source": [
    "<h1>Table of Contents<span class=\"tocSkip\"></span></h1>\n",
    "<div class=\"toc\"><ul class=\"toc-item\"></ul></div>"
   ]
  },
  {
   "cell_type": "code",
   "execution_count": 40,
   "id": "c64b5f1e",
   "metadata": {},
   "outputs": [],
   "source": [
    "from logic import *"
   ]
  },
  {
   "cell_type": "code",
   "execution_count": 41,
   "id": "c9efe915",
   "metadata": {},
   "outputs": [],
   "source": [
    "people = [\"Gilderoy\", \"Pomona\", \"Minerva\", \"Horace\"]\n",
    "houses = [\"Gryffindor\", \"Hufflepuff\", \"Ravenclaw\", \"Slytherin\"]"
   ]
  },
  {
   "cell_type": "code",
   "execution_count": 42,
   "id": "fd212962",
   "metadata": {},
   "outputs": [],
   "source": [
    "symbols = []\n",
    "\n",
    "knowledge = And()"
   ]
  },
  {
   "cell_type": "code",
   "execution_count": 43,
   "id": "52a00d9c",
   "metadata": {},
   "outputs": [],
   "source": [
    "for person in people:\n",
    "    for house in houses:\n",
    "        symbols.append(Symbol(f\"{person}{house}\"))"
   ]
  },
  {
   "cell_type": "code",
   "execution_count": 44,
   "id": "9519ecdc",
   "metadata": {},
   "outputs": [],
   "source": [
    "# Each person belongs to a house.\n",
    "for person in people:\n",
    "    knowledge.add(Or(\n",
    "        Symbol(f\"{person}Gryffindor\"),\n",
    "        Symbol(f\"{person}Hufflepuff\"),\n",
    "        Symbol(f\"{person}Ravenclaw\"),\n",
    "        Symbol(f\"{person}Slytherin\")\n",
    "    ))"
   ]
  },
  {
   "cell_type": "code",
   "execution_count": 45,
   "id": "829edd16",
   "metadata": {},
   "outputs": [],
   "source": [
    "# Only one house per person.\n",
    "for person in people:\n",
    "    for h1 in houses:\n",
    "        for h2 in houses:\n",
    "            if h1 != h2:\n",
    "                knowledge.add(\n",
    "                    Implication(Symbol(f\"{person}{h1}\"), Not(Symbol(f\"{person}{h2}\")))\n",
    "                )"
   ]
  },
  {
   "cell_type": "code",
   "execution_count": 46,
   "id": "3b165e6c",
   "metadata": {},
   "outputs": [],
   "source": [
    "# Only one person per house.\n",
    "for house in houses:\n",
    "    for p1 in people:\n",
    "        for p2 in people:\n",
    "            if p1 != p2:\n",
    "                knowledge.add(\n",
    "                    Implication(Symbol(f\"{p1}{house}\"), Not(Symbol(f\"{p2}{house}\")))\n",
    "                )"
   ]
  },
  {
   "cell_type": "code",
   "execution_count": 47,
   "id": "1a5a2438",
   "metadata": {},
   "outputs": [],
   "source": [
    "knowledge.add(\n",
    "    Or(Symbol(\"GilderoyGryffindor\"), Symbol(\"GilderoyRavenclaw\"))\n",
    ")"
   ]
  },
  {
   "cell_type": "code",
   "execution_count": 48,
   "id": "b5a168e4",
   "metadata": {},
   "outputs": [],
   "source": [
    "knowledge.add(\n",
    "    Not(Symbol(\"PomonaSlytherin\"))\n",
    ")"
   ]
  },
  {
   "cell_type": "code",
   "execution_count": 49,
   "id": "5851f09c",
   "metadata": {},
   "outputs": [],
   "source": [
    "knowledge.add(\n",
    "    Symbol(\"MinervaGryffindor\")\n",
    ")"
   ]
  },
  {
   "cell_type": "code",
   "execution_count": 50,
   "id": "976e4a46",
   "metadata": {},
   "outputs": [
    {
     "name": "stdout",
     "output_type": "stream",
     "text": [
      "GilderoyRavenclaw\n",
      "PomonaHufflepuff\n",
      "MinervaGryffindor\n",
      "HoraceSlytherin\n"
     ]
    }
   ],
   "source": [
    "for symbol in symbols:\n",
    "    if model_check(knowledge, symbol):\n",
    "        print(symbol)"
   ]
  },
  {
   "cell_type": "code",
   "execution_count": null,
   "id": "5b07d132",
   "metadata": {},
   "outputs": [],
   "source": []
  }
 ],
 "metadata": {
  "kernelspec": {
   "display_name": "Python 3 (ipykernel)",
   "language": "python",
   "name": "python3"
  },
  "language_info": {
   "codemirror_mode": {
    "name": "ipython",
    "version": 3
   },
   "file_extension": ".py",
   "mimetype": "text/x-python",
   "name": "python",
   "nbconvert_exporter": "python",
   "pygments_lexer": "ipython3",
   "version": "3.9.12"
  },
  "toc": {
   "base_numbering": 1,
   "nav_menu": {},
   "number_sections": true,
   "sideBar": true,
   "skip_h1_title": false,
   "title_cell": "Table of Contents",
   "title_sidebar": "Contents",
   "toc_cell": true,
   "toc_position": {},
   "toc_section_display": true,
   "toc_window_display": false
  }
 },
 "nbformat": 4,
 "nbformat_minor": 5
}
