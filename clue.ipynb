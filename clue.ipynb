{
 "cells": [
  {
   "cell_type": "markdown",
   "metadata": {
    "toc": true
   },
   "source": [
    "<h1>Table of Contents<span class=\"tocSkip\"></span></h1>\n",
    "<div class=\"toc\"><ul class=\"toc-item\"></ul></div>"
   ]
  },
  {
   "cell_type": "code",
   "execution_count": 17,
   "metadata": {},
   "outputs": [],
   "source": [
    "import termcolor\n",
    "\n",
    "from logic import *"
   ]
  },
  {
   "cell_type": "code",
   "execution_count": 18,
   "metadata": {},
   "outputs": [],
   "source": [
    "mustard = Symbol(\"ColMustard\")\n",
    "plum = Symbol(\"ProfPlum\")\n",
    "scarlet = Symbol(\"MsScarlet\")\n",
    "characters = [mustard, plum, scarlet]"
   ]
  },
  {
   "cell_type": "code",
   "execution_count": 19,
   "metadata": {},
   "outputs": [],
   "source": [
    "ballroom = Symbol(\"ballroom\")\n",
    "kitchen = Symbol(\"kitchen\")\n",
    "library = Symbol(\"library\")\n",
    "rooms = [ballroom, kitchen, library]"
   ]
  },
  {
   "cell_type": "code",
   "execution_count": 20,
   "metadata": {},
   "outputs": [],
   "source": [
    "knife = Symbol(\"knife\")\n",
    "revolver = Symbol(\"revolver\")\n",
    "wrench = Symbol(\"wrench\")\n",
    "weapons = [knife, revolver, wrench]"
   ]
  },
  {
   "cell_type": "code",
   "execution_count": 21,
   "metadata": {},
   "outputs": [],
   "source": [
    "symbols = characters + rooms + weapons"
   ]
  },
  {
   "cell_type": "code",
   "execution_count": 22,
   "metadata": {},
   "outputs": [],
   "source": [
    "def check_knowledge(knowledge):\n",
    "    for symbol in symbols:\n",
    "        if model_check(knowledge, symbol):\n",
    "            termcolor.cprint(f\"{symbol}: YES\", \"green\")\n",
    "        elif not model_check(knowledge, Not(symbol)):\n",
    "            print(f\"{symbol}: MAYBE\")"
   ]
  },
  {
   "cell_type": "code",
   "execution_count": 23,
   "metadata": {},
   "outputs": [],
   "source": [
    "# There must be a person, room, and weapon.\n",
    "knowledge = And(\n",
    "    Or(mustard, plum, scarlet),\n",
    "    Or(ballroom, kitchen, library),\n",
    "    Or(knife, revolver, wrench)\n",
    ")"
   ]
  },
  {
   "cell_type": "code",
   "execution_count": 24,
   "metadata": {},
   "outputs": [
    {
     "name": "stdout",
     "output_type": "stream",
     "text": [
      "ColMustard: MAYBE\n",
      "ProfPlum: MAYBE\n",
      "MsScarlet: MAYBE\n",
      "ballroom: MAYBE\n",
      "kitchen: MAYBE\n",
      "library: MAYBE\n",
      "knife: MAYBE\n",
      "revolver: MAYBE\n",
      "wrench: MAYBE\n"
     ]
    }
   ],
   "source": [
    "check_knowledge(knowledge)"
   ]
  },
  {
   "cell_type": "code",
   "execution_count": 25,
   "metadata": {},
   "outputs": [],
   "source": [
    "# Initial cards\n",
    "knowledge.add(And(\n",
    "    Not(mustard), Not(kitchen), Not(revolver)\n",
    "))"
   ]
  },
  {
   "cell_type": "code",
   "execution_count": 26,
   "metadata": {},
   "outputs": [
    {
     "name": "stdout",
     "output_type": "stream",
     "text": [
      "ProfPlum: MAYBE\n",
      "MsScarlet: MAYBE\n",
      "ballroom: MAYBE\n",
      "library: MAYBE\n",
      "knife: MAYBE\n",
      "wrench: MAYBE\n"
     ]
    }
   ],
   "source": [
    "check_knowledge(knowledge)"
   ]
  },
  {
   "cell_type": "code",
   "execution_count": 27,
   "metadata": {},
   "outputs": [],
   "source": [
    "# Unknown card\n",
    "knowledge.add(Or(\n",
    "    Not(scarlet), Not(library), Not(wrench)\n",
    "))"
   ]
  },
  {
   "cell_type": "code",
   "execution_count": 28,
   "metadata": {},
   "outputs": [
    {
     "name": "stdout",
     "output_type": "stream",
     "text": [
      "ProfPlum: MAYBE\n",
      "MsScarlet: MAYBE\n",
      "ballroom: MAYBE\n",
      "library: MAYBE\n",
      "knife: MAYBE\n",
      "wrench: MAYBE\n"
     ]
    }
   ],
   "source": [
    "check_knowledge(knowledge)"
   ]
  },
  {
   "cell_type": "code",
   "execution_count": 29,
   "metadata": {},
   "outputs": [],
   "source": [
    "# Known cards\n",
    "knowledge.add(Not(plum))"
   ]
  },
  {
   "cell_type": "code",
   "execution_count": 30,
   "metadata": {},
   "outputs": [
    {
     "name": "stdout",
     "output_type": "stream",
     "text": [
      "\u001b[32mMsScarlet: YES\u001b[0m\n",
      "ballroom: MAYBE\n",
      "library: MAYBE\n",
      "knife: MAYBE\n",
      "wrench: MAYBE\n"
     ]
    }
   ],
   "source": [
    "check_knowledge(knowledge)"
   ]
  },
  {
   "cell_type": "code",
   "execution_count": 31,
   "metadata": {},
   "outputs": [],
   "source": [
    "knowledge.add(Not(ballroom))"
   ]
  },
  {
   "cell_type": "code",
   "execution_count": 32,
   "metadata": {},
   "outputs": [
    {
     "name": "stdout",
     "output_type": "stream",
     "text": [
      "\u001b[32mMsScarlet: YES\u001b[0m\n",
      "\u001b[32mlibrary: YES\u001b[0m\n",
      "\u001b[32mknife: YES\u001b[0m\n"
     ]
    }
   ],
   "source": [
    "check_knowledge(knowledge)"
   ]
  },
  {
   "cell_type": "code",
   "execution_count": null,
   "metadata": {},
   "outputs": [],
   "source": []
  }
 ],
 "metadata": {
  "kernelspec": {
   "display_name": "Python 3 (ipykernel)",
   "language": "python",
   "name": "python3"
  },
  "language_info": {
   "codemirror_mode": {
    "name": "ipython",
    "version": 3
   },
   "file_extension": ".py",
   "mimetype": "text/x-python",
   "name": "python",
   "nbconvert_exporter": "python",
   "pygments_lexer": "ipython3",
   "version": "3.9.12"
  },
  "toc": {
   "base_numbering": 1,
   "nav_menu": {},
   "number_sections": true,
   "sideBar": true,
   "skip_h1_title": false,
   "title_cell": "Table of Contents",
   "title_sidebar": "Contents",
   "toc_cell": true,
   "toc_position": {},
   "toc_section_display": true,
   "toc_window_display": false
  },
  "vscode": {
   "interpreter": {
    "hash": "b436b121d6030e98909f75ceab41165d13ba55a3b97d1a3afabfa64e4846fce0"
   }
  }
 },
 "nbformat": 4,
 "nbformat_minor": 2
}
