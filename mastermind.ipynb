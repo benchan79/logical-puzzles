{
 "cells": [
  {
   "cell_type": "markdown",
   "id": "bba34277",
   "metadata": {
    "toc": true
   },
   "source": [
    "<h1>Table of Contents<span class=\"tocSkip\"></span></h1>\n",
    "<div class=\"toc\"><ul class=\"toc-item\"></ul></div>"
   ]
  },
  {
   "cell_type": "code",
   "execution_count": 1,
   "id": "9b3f5ccb",
   "metadata": {},
   "outputs": [],
   "source": [
    "from logic import *"
   ]
  },
  {
   "cell_type": "code",
   "execution_count": 2,
   "id": "1c29d5b4",
   "metadata": {},
   "outputs": [],
   "source": [
    "colors = [\"red\", \"blue\", \"green\", \"yellow\"]\n",
    "symbols = []"
   ]
  },
  {
   "cell_type": "code",
   "execution_count": 3,
   "id": "b044f0c6",
   "metadata": {},
   "outputs": [],
   "source": [
    "for i in range(4):\n",
    "    for color in colors:\n",
    "        symbols.append(Symbol(f\"{color}{i}\"))"
   ]
  },
  {
   "cell_type": "code",
   "execution_count": 4,
   "id": "4c666152",
   "metadata": {},
   "outputs": [],
   "source": [
    "knowledge = And()"
   ]
  },
  {
   "cell_type": "code",
   "execution_count": 5,
   "id": "4a7b01e6",
   "metadata": {},
   "outputs": [],
   "source": [
    "# Each color has a position.\n",
    "for color in colors:\n",
    "    knowledge.add(Or(\n",
    "        Symbol(f\"{color}0\"),\n",
    "        Symbol(f\"{color}1\"),\n",
    "        Symbol(f\"{color}2\"),\n",
    "        Symbol(f\"{color}3\")\n",
    "    ))"
   ]
  },
  {
   "cell_type": "code",
   "execution_count": 6,
   "id": "86c93a5f",
   "metadata": {},
   "outputs": [],
   "source": [
    "# Only one position per color.\n",
    "for color in colors:\n",
    "    for i in range(4):\n",
    "        for j in range(4):\n",
    "            if i != j:\n",
    "                knowledge.add(Implication(\n",
    "                    Symbol(f\"{color}{i}\"), Not(Symbol(f\"{color}{j}\"))\n",
    "                ))"
   ]
  },
  {
   "cell_type": "code",
   "execution_count": 7,
   "id": "099ae01b",
   "metadata": {},
   "outputs": [],
   "source": [
    "# Only one color per position.\n",
    "for i in range(4):\n",
    "    for c1 in colors:\n",
    "        for c2 in colors:\n",
    "            if c1 != c2:\n",
    "                knowledge.add(Implication(\n",
    "                    Symbol(f\"{c1}{i}\"), Not(Symbol(f\"{c2}{i}\"))\n",
    "                ))"
   ]
  },
  {
   "cell_type": "code",
   "execution_count": 8,
   "id": "49614ab8",
   "metadata": {},
   "outputs": [],
   "source": [
    "knowledge.add(Or(\n",
    "    And(Symbol(\"red0\"), Symbol(\"blue1\"), Not(Symbol(\"green2\")), Not(Symbol(\"yellow3\"))),\n",
    "    And(Symbol(\"red0\"), Symbol(\"green2\"), Not(Symbol(\"blue1\")), Not(Symbol(\"yellow3\"))),\n",
    "    And(Symbol(\"red0\"), Symbol(\"yellow3\"), Not(Symbol(\"blue1\")), Not(Symbol(\"green2\"))),\n",
    "    And(Symbol(\"blue1\"), Symbol(\"green2\"), Not(Symbol(\"red0\")), Not(Symbol(\"yellow3\"))),\n",
    "    And(Symbol(\"blue1\"), Symbol(\"yellow3\"), Not(Symbol(\"red0\")), Not(Symbol(\"green2\"))),\n",
    "    And(Symbol(\"green2\"), Symbol(\"yellow3\"), Not(Symbol(\"red0\")), Not(Symbol(\"blue1\")))\n",
    "))"
   ]
  },
  {
   "cell_type": "code",
   "execution_count": 9,
   "id": "5ad9ab1a",
   "metadata": {},
   "outputs": [],
   "source": [
    "knowledge.add(And(\n",
    "    Not(Symbol(\"blue0\")),\n",
    "    Not(Symbol(\"red1\")),\n",
    "    Not(Symbol(\"green2\")),\n",
    "    Not(Symbol(\"yellow3\"))\n",
    "))"
   ]
  },
  {
   "cell_type": "code",
   "execution_count": 10,
   "id": "9dc4f4a2",
   "metadata": {},
   "outputs": [
    {
     "name": "stdout",
     "output_type": "stream",
     "text": [
      "red0\n",
      "blue1\n",
      "yellow2\n",
      "green3\n"
     ]
    }
   ],
   "source": [
    "for symbol in symbols:\n",
    "    if model_check(knowledge, symbol):\n",
    "        print(symbol)"
   ]
  },
  {
   "cell_type": "code",
   "execution_count": null,
   "id": "b7d7fb94",
   "metadata": {},
   "outputs": [],
   "source": []
  }
 ],
 "metadata": {
  "kernelspec": {
   "display_name": "Python 3 (ipykernel)",
   "language": "python",
   "name": "python3"
  },
  "language_info": {
   "codemirror_mode": {
    "name": "ipython",
    "version": 3
   },
   "file_extension": ".py",
   "mimetype": "text/x-python",
   "name": "python",
   "nbconvert_exporter": "python",
   "pygments_lexer": "ipython3",
   "version": "3.9.12"
  },
  "toc": {
   "base_numbering": 1,
   "nav_menu": {},
   "number_sections": true,
   "sideBar": true,
   "skip_h1_title": false,
   "title_cell": "Table of Contents",
   "title_sidebar": "Contents",
   "toc_cell": true,
   "toc_position": {},
   "toc_section_display": true,
   "toc_window_display": false
  }
 },
 "nbformat": 4,
 "nbformat_minor": 5
}
